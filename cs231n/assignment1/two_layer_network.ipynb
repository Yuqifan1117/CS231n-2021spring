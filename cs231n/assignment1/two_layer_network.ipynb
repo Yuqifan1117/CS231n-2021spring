{
 "cells": [
  {
   "cell_type": "code",
   "execution_count": null,
   "metadata": {},
   "outputs": [],
   "source": [
    "import numpy as np\n",
    "from numpy.random import randn"
   ]
  },
  {
   "cell_type": "code",
   "execution_count": null,
   "metadata": {},
   "outputs": [],
   "source": [
    "# define the network\n",
    "N, D_in, H, D_out = 64, 1000, 100, 10\n",
    "x, y = randn(N, D_in), randn(N, D_out)\n",
    "w1, w2 = randn(D_in, H), randn(H, D_out)\n",
    "\n",
    "# Forward pass\n",
    "for t in range(2000):\n",
    "    h = 1 / (1 + np.exp(-x.dot(w1)))\n",
    "    y_pred = h.dot(w2)\n",
    "    loss = np.square(y_pred - y).sum()\n",
    "    print(t, loss)\n",
    "    \n",
    "# Calculate the analytical gradients\n",
    "grad_y_pred = 2.0 * (y_pred - y)\n",
    "grad_w2 = h.T.dot(grad_y_pred)\n",
    "grad_h = grad_y_pred.dot(w2.T)\n",
    "grad_w1 = x.T.dot(grad_h * h * (1-h))\n",
    "\n",
    "# Gradient descent\n",
    "learning_rate = 1e-4\n",
    "w1 -= learning_rate * grad_w1\n",
    "w2 -= learning_rate * grad_w2"
   ]
  },
  {
   "cell_type": "code",
   "execution_count": null,
   "metadata": {},
   "outputs": [],
   "source": []
  }
 ],
 "metadata": {
  "kernelspec": {
   "display_name": "pytorch",
   "language": "python",
   "name": "pytorch"
  },
  "language_info": {
   "codemirror_mode": {
    "name": "ipython",
    "version": 3
   },
   "file_extension": ".py",
   "mimetype": "text/x-python",
   "name": "python",
   "nbconvert_exporter": "python",
   "pygments_lexer": "ipython3",
   "version": "3.6.10"
  }
 },
 "nbformat": 4,
 "nbformat_minor": 4
}
